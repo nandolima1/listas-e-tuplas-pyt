{
  "cells": [
    {
      "cell_type": "markdown",
      "metadata": {
        "id": "view-in-github",
        "colab_type": "text"
      },
      "source": [
        "<a href=\"https://colab.research.google.com/github/nandolima1/listas-e-tuplas-pyt/blob/main/Ol%C3%A1%2C_este_%C3%A9_o_Colaboratory.ipynb\" target=\"_parent\"><img src=\"https://colab.research.google.com/assets/colab-badge.svg\" alt=\"Open In Colab\"/></a>"
      ]
    },
    {
      "cell_type": "code",
      "source": [
        " # Inicializa uma lista vazia para armazenar as informações das pessoas\n",
        "pessoas = []\n",
        "\n",
        "# Laço de repetição para iterar duas vezes (para obter informações de duas pessoas)\n",
        "for i in range(2):\n",
        "    nome = input(\"Digite o nome da pessoa: \")\n",
        "    idade = int(input(\"Digite a idade da pessoa: \"))\n",
        "    profissao = input(\"Digite a profissão da pessoa: \")\n",
        "\n",
        "    # Cria um dicionário com as informações da pessoa atual\n",
        "    pessoa = {'nome': nome, 'idade': idade, 'profissao': profissao}\n",
        "\n",
        "    # Adiciona o dicionário à lista de pessoas\n",
        "    pessoas.append(pessoa)\n",
        "\n",
        "# Imprime as informações armazenadas\n",
        "print(\"\\nInformações das pessoas:\")\n",
        "for pessoa in pessoas:\n",
        "    print(f\"Nome: {pessoa['nome']}, Idade: {pessoa['idade']}, Profissão: {pessoa['profissao']}\")\n"
      ],
      "metadata": {
        "id": "Ej-LTWvSzJXs",
        "outputId": "5bf65ee1-f6cd-4b7a-a4b0-fbbd2389fad9",
        "colab": {
          "base_uri": "https://localhost:8080/"
        }
      },
      "execution_count": 2,
      "outputs": [
        {
          "output_type": "stream",
          "name": "stdout",
          "text": [
            "Digite o nome da pessoa: nando \n",
            "Digite a idade da pessoa: 34\n",
            "Digite a profissão da pessoa: mecanico \n",
            "Digite o nome da pessoa: andre \n",
            "Digite a idade da pessoa: 20\n",
            "Digite a profissão da pessoa: motorista\n",
            "\n",
            "Informações das pessoas:\n",
            "Nome: nando , Idade: 34, Profissão: mecanico \n",
            "Nome: andre , Idade: 20, Profissão: motorista\n"
          ]
        }
      ]
    },
    {
      "cell_type": "code",
      "source": [
        "# Lista de palavras\n",
        "lista_palavras = [\"cachorro\", \"gato\", \"pássaro\", \"peixe\"]\n",
        "\n",
        "# Palavra a ser verificada\n",
        "palavra = input(\"Digite uma palavra para verificar se está na lista: \")\n",
        "\n",
        "# Verifica se a palavra está na lista e mostra na tela o resultado\n",
        "if palavra in lista_palavras:\n",
        "    print(f\"A palavra '{palavra}' está na lista.\")\n",
        "else:\n",
        "    print(f\"A palavra '{palavra}' não está na lista.\")\n"
      ],
      "metadata": {
        "id": "N0oEuXhe9C8C",
        "outputId": "14803445-032d-4156-e8e5-fd430182ba76",
        "colab": {
          "base_uri": "https://localhost:8080/"
        }
      },
      "execution_count": 4,
      "outputs": [
        {
          "output_type": "stream",
          "name": "stdout",
          "text": [
            "Digite uma palavra para verificar se está na lista: gato\n",
            "A palavra 'gato' está na lista.\n"
          ]
        }
      ]
    },
    {
      "cell_type": "code",
      "source": [
        "# Solicita ao usuário que insira dois números\n",
        "num1 = float(input(\"Digite o primeiro número: \"))\n",
        "num2 = float(input(\"Digite o segundo número: \"))\n",
        "\n",
        "numeros = [num1, num2]\n",
        "\n",
        "# Determina o maior e o menor número na lista\n",
        "maior_numero = max(numeros)\n",
        "menor_numero = min(numeros)\n",
        "\n",
        "print(f\"O maior número é: {maior_numero}\")\n",
        "print(f\"O menor número é: {menor_numero}\")\n"
      ],
      "metadata": {
        "id": "Y4yAM-_j-6oq",
        "outputId": "0d992b24-f3c3-414e-8c1c-4eb4c472128e",
        "colab": {
          "base_uri": "https://localhost:8080/"
        }
      },
      "execution_count": 5,
      "outputs": [
        {
          "output_type": "stream",
          "name": "stdout",
          "text": [
            "Digite o primeiro número: 12\n",
            "Digite o segundo número: 23\n",
            "O maior número é: 23.0\n",
            "O menor número é: 12.0\n"
          ]
        }
      ]
    },
    {
      "cell_type": "code",
      "source": [
        "\n",
        "numeros = []\n",
        "\n",
        "for i in range(10):\n",
        "    numero = float(input(f\"Digite o {i+1}º número: \"))\n",
        "    numeros.append(numero)\n",
        "\n",
        "# Ordena os números em ordem crescente e decrescente\n",
        "crescente = sorted(numeros)\n",
        "decrescente = sorted(numeros, reverse=True)\n",
        "\n",
        "# Mostra os números em ordem crescente\n",
        "print(\"Números em ordem crescente:\")\n",
        "for num in crescente:\n",
        "    print(num, end=\" \")\n",
        "\n",
        "# Mostra os números em ordem decrescente\n",
        "print(\"\\nNúmeros em ordem decrescente:\")\n",
        "for num in decrescente:\n",
        "    print(num, end=\" \")\n"
      ],
      "metadata": {
        "id": "qj3vkgQoAEx5",
        "outputId": "fef692b8-73c0-4df3-92b9-18243bedcbe9",
        "colab": {
          "base_uri": "https://localhost:8080/"
        }
      },
      "execution_count": 6,
      "outputs": [
        {
          "output_type": "stream",
          "name": "stdout",
          "text": [
            "Digite o 1º número: 2\n",
            "Digite o 2º número: 3\n",
            "Digite o 3º número: 8\n",
            "Digite o 4º número: 6\n",
            "Digite o 5º número: 7\n",
            "Digite o 6º número: 1\n",
            "Digite o 7º número: 9\n",
            "Digite o 8º número: 4\n",
            "Digite o 9º número: 25\n",
            "Digite o 10º número: 14\n",
            "Números em ordem crescente:\n",
            "1.0 2.0 3.0 4.0 6.0 7.0 8.0 9.0 14.0 25.0 \n",
            "Números em ordem decrescente:\n",
            "25.0 14.0 9.0 8.0 7.0 6.0 4.0 3.0 2.0 1.0 "
          ]
        }
      ]
    },
    {
      "cell_type": "code",
      "source": [
        "\n",
        "nomes = input(\"Digite os nomes das pessoas, separados por espaço: \").split()\n",
        "\n",
        "print(\"Nomes em maiúsculas:\")\n",
        "for nome in nomes:\n",
        "    print(nome.upper())\n"
      ],
      "metadata": {
        "id": "LPuyn-RfApI0",
        "outputId": "bbc1e90a-daed-4405-a396-99661f244dd3",
        "colab": {
          "base_uri": "https://localhost:8080/"
        }
      },
      "execution_count": 7,
      "outputs": [
        {
          "output_type": "stream",
          "name": "stdout",
          "text": [
            "Digite os nomes das pessoas, separados por espaço: a n a\n",
            "Nomes em maiúsculas:\n",
            "A\n",
            "N\n",
            "A\n"
          ]
        }
      ]
    },
    {
      "cell_type": "code",
      "source": [
        "\n",
        "lista = input(\"Digite os elementos da lista separados por espaço: \").split()\n",
        "\n",
        "print(\"Lista antes da remoção:\", lista)\n",
        "\n",
        "# Solicita ao usuário que escolha o item a ser removido\n",
        "item_a_remover = input(\"Digite o item que deseja remover: \")\n",
        "\n",
        "# Verifica se o item está na lista antes de tentar removê-lo\n",
        "if item_a_remover in lista:\n",
        "    lista.remove(item_a_remover)\n",
        "    print(f\"O item '{item_a_remover}' foi removido com sucesso.\")\n",
        "    print(\"Lista após a remoção:\", lista)\n",
        "else:\n",
        "    print(f\"O item '{item_a_remover}' não está na lista.\")\n",
        "\n"
      ],
      "metadata": {
        "id": "aFiVEqn1CJDI",
        "outputId": "d18b12fc-5cf8-4fe6-9ab1-c3c8b54edc93",
        "colab": {
          "base_uri": "https://localhost:8080/"
        }
      },
      "execution_count": 8,
      "outputs": [
        {
          "output_type": "stream",
          "name": "stdout",
          "text": [
            "Digite os elementos da lista separados por espaço: 1 2 5 6 9 8\n",
            "Lista antes da remoção: ['1', '2', '5', '6', '9', '8']\n",
            "Digite o item que deseja remover: 9\n",
            "O item '9' foi removido com sucesso.\n",
            "Lista após a remoção: ['1', '2', '5', '6', '8']\n"
          ]
        }
      ]
    },
    {
      "cell_type": "code",
      "source": [
        "\n",
        "valores = []\n",
        "for i in range(10):\n",
        "    valor = int(input(f\"Digite o {i+1}º valor inteiro: \"))\n",
        "    valores.append(valor)\n",
        "\n",
        "pares = []\n",
        "\n",
        "# Percorre a lista de valores e adiciona os números pares à lista 'pares'\n",
        "for valor in valores:\n",
        "    if valor % 2 == 0:\n",
        "        pares.append(valor)\n",
        "\n",
        "print(\"Lista de números pares:\")\n",
        "print(pares)\n"
      ],
      "metadata": {
        "id": "o6F5zjWcDcvI",
        "outputId": "ccaddf50-0434-44a1-e1b1-9d4a95c05936",
        "colab": {
          "base_uri": "https://localhost:8080/"
        }
      },
      "execution_count": 9,
      "outputs": [
        {
          "output_type": "stream",
          "name": "stdout",
          "text": [
            "Digite o 1º valor inteiro: 1\n",
            "Digite o 2º valor inteiro: 2\n",
            "Digite o 3º valor inteiro: 3\n",
            "Digite o 4º valor inteiro: 9\n",
            "Digite o 5º valor inteiro: 8\n",
            "Digite o 6º valor inteiro: 4\n",
            "Digite o 7º valor inteiro: 5\n",
            "Digite o 8º valor inteiro: 86\n",
            "Digite o 9º valor inteiro: 23\n",
            "Digite o 10º valor inteiro: 12\n",
            "Lista de números pares:\n",
            "[2, 8, 4, 86, 12]\n"
          ]
        }
      ]
    },
    {
      "cell_type": "code",
      "source": [
        "# Recebe uma tupla do usuário\n",
        "tupla = tuple(input(\"Digite os elementos da tupla separados por espaço: \").split())\n",
        "\n",
        "# Converte a tupla em uma lista\n",
        "lista = list(tupla)\n",
        "\n",
        "# Recebe o elemento a ser adicionado à lista\n",
        "elemento = input(\"Digite o elemento a ser adicionado à lista: \")\n",
        "\n",
        "lista.append(elemento)\n",
        "\n",
        "# Converte a lista modificada de volta para uma tupla\n",
        "tupla_modificada = tuple(lista)\n",
        "\n",
        "# Mostra na tela a lista e a tupla modificada\n",
        "print(\"Lista modificada:\", lista)\n",
        "print(\"Tupla modificada:\", tupla_modificada)\n"
      ],
      "metadata": {
        "id": "C9-oICZsEmF1",
        "outputId": "f11bd359-e1f6-4f8d-dd18-76788f06162d",
        "colab": {
          "base_uri": "https://localhost:8080/"
        }
      },
      "execution_count": 10,
      "outputs": [
        {
          "output_type": "stream",
          "name": "stdout",
          "text": [
            "Digite os elementos da tupla separados por espaço: 1 2 3 6\n",
            "Digite o elemento a ser adicionado à lista: 20\n",
            "Lista modificada: ['1', '2', '3', '6', '20']\n",
            "Tupla modificada: ('1', '2', '3', '6', '20')\n"
          ]
        }
      ]
    },
    {
      "cell_type": "code",
      "source": [
        "\n",
        "lista = ['banana', 'laranja', 'maçã', 'morango', 'graviola']\n",
        "\n",
        "# Busca o elemento na posição 3 (índice 2)\n",
        "fruta_posicao_3 = lista[2]\n",
        "\n",
        "print(\"A fruta na posição 3 é:\", fruta_posicao_3)\n"
      ],
      "metadata": {
        "id": "r7HpQWPrE057",
        "outputId": "3184da1e-63bf-437d-b19a-0cd53f66fdd0",
        "colab": {
          "base_uri": "https://localhost:8080/"
        }
      },
      "execution_count": 11,
      "outputs": [
        {
          "output_type": "stream",
          "name": "stdout",
          "text": [
            "A fruta na posição 3 é: maçã\n"
          ]
        }
      ]
    }
  ],
  "metadata": {
    "colab": {
      "name": "Olá, este é o Colaboratory",
      "toc_visible": true,
      "provenance": [],
      "include_colab_link": true
    },
    "kernelspec": {
      "display_name": "Python 3",
      "name": "python3"
    }
  },
  "nbformat": 4,
  "nbformat_minor": 0
}